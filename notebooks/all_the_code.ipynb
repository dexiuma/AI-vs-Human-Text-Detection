{
 "cells": [
  {
   "cell_type": "code",
   "execution_count": 40,
   "id": "722833b6",
   "metadata": {},
   "outputs": [
    {
     "name": "stderr",
     "output_type": "stream",
     "text": [
      "[nltk_data] Downloading package stopwords to /root/nltk_data...\n",
      "[nltk_data]   Package stopwords is already up-to-date!\n",
      "[nltk_data] Downloading package wordnet to /root/nltk_data...\n",
      "[nltk_data]   Package wordnet is already up-to-date!\n"
     ]
    },
    {
     "data": {
      "text/plain": [
       "True"
      ]
     },
     "execution_count": 40,
     "metadata": {},
     "output_type": "execute_result"
    }
   ],
   "source": [
    "import pandas as pd\n",
    "import numpy as np\n",
    "import matplotlib.pyplot as plt\n",
    "from itertools import product\n",
    "from scipy.stats import levene\n",
    "from sklearn.model_selection import train_test_split, GridSearchCV, cross_val_score, StratifiedKFold\n",
    "from sklearn.pipeline import Pipeline, FeatureUnion\n",
    "from sklearn.feature_extraction.text import TfidfVectorizer, CountVectorizer\n",
    "from sklearn.svm import SVC\n",
    "from sklearn.tree import DecisionTreeClassifier\n",
    "from sklearn.ensemble import AdaBoostClassifier\n",
    "from sklearn.metrics import (accuracy_score, classification_report, confusion_matrix, roc_auc_score, roc_curve, precision_recall_curve)\n",
    "from sklearn.feature_selection import SelectKBest, chi2\n",
    "import nltk\n",
    "from nltk.corpus import stopwords\n",
    "from nltk.stem import PorterStemmer, WordNetLemmatizer\n",
    "import re\n",
    "from scipy.stats import ttest_rel\n",
    "from sklearn.ensemble import VotingClassifier\n",
    "from sklearn.base import TransformerMixin, BaseEstimator\n",
    "from sklearn.model_selection import ParameterGrid\n",
    "from joblib import dump, load\n",
    "from pickle import dump, load\n",
    "nltk.download('stopwords')\n",
    "nltk.download('wordnet')"
   ]
  },
  {
   "cell_type": "markdown",
   "id": "f86d9c30",
   "metadata": {},
   "source": [
    "## Data Analysis & Preprocessing"
   ]
  },
  {
   "cell_type": "code",
   "execution_count": 41,
   "id": "7cec9b16",
   "metadata": {},
   "outputs": [
    {
     "name": "stdout",
     "output_type": "stream",
     "text": [
      "Training data shape: (3728, 2)\n",
      "                                               essay  label\n",
      "0  International sports events require the most w...      0\n",
      "1  Globalisation has become a significant aspect ...      0\n",
      "2  There is an ever-increasing number of bullying...      0\n",
      "3  It is commonly believed, that companies should...      0\n",
      "4  Despite knowing about the adverse effects of c...      0\n",
      "Test data shape: (869, 2)\n",
      "                                               essay  label\n",
      "0  Enjoyment means entertainment, satisfaction of...    NaN\n",
      "1  Before to start with my opinion of the topic i...    NaN\n",
      "2  Thats a really really good subject, but acctul...    NaN\n",
      "3  I disagree with the statement saying that it i...    NaN\n",
      "4  It is undeniable that advertisements play a si...    NaN\n"
     ]
    }
   ],
   "source": [
    "train_df = pd.read_excel('../data/AI_vs_huam_train_dataset.xlsx')\n",
    "test_df = pd.read_csv('../data/Final_test_data.csv')\n",
    "\n",
    "print('Training data shape:', train_df.shape)\n",
    "print(train_df.head())\n",
    "\n",
    "print('Test data shape:', test_df.shape)\n",
    "print(test_df.head())"
   ]
  },
  {
   "cell_type": "code",
   "execution_count": 42,
   "id": "a58c1e6b",
   "metadata": {},
   "outputs": [
    {
     "name": "stdout",
     "output_type": "stream",
     "text": [
      "covid pandemic started\n"
     ]
    }
   ],
   "source": [
    "#preprocessing\n",
    "stop_words = set(stopwords.words('english'))\n",
    "ps = PorterStemmer()\n",
    "lemmatizer = WordNetLemmatizer()\n",
    "\n",
    "def clean_text(text):\n",
    "    text = text.lower()\n",
    "    text = re.sub(r\"[^a-z\\s]\", \" \", text)\n",
    "    tokens = text.split()\n",
    "    tokens = [t for t in tokens if not re.fullmatch(r\"\\d+\", t)]\n",
    "    return \" \".join(tokens)\n",
    "\n",
    "def preprocess(text, method='lemmatization'):\n",
    "    text = clean_text(text)\n",
    "    tokens = text.split()\n",
    "    tokens = [t for t in tokens if t not in stop_words and len(t) > 1]\n",
    "    if method == 'stemming':\n",
    "        tokens = [ps.stem(t) for t in tokens]\n",
    "    else:\n",
    "        tokens = [lemmatizer.lemmatize(t) for t in tokens]\n",
    "    return \" \".join(tokens)\n",
    "\n",
    "print(preprocess('The COVID19 pandemic started in 2020!', method='lemmatization'))"
   ]
  },
  {
   "cell_type": "markdown",
   "id": "d2aca448",
   "metadata": {},
   "source": [
    "feature extraction"
   ]
  },
  {
   "cell_type": "code",
   "execution_count": 43,
   "id": "2eb49819",
   "metadata": {},
   "outputs": [],
   "source": [
    "from sklearn.feature_extraction.text import TfidfVectorizer, CountVectorizer\n",
    "import spacy\n",
    "\n",
    "\n",
    "nlp = spacy.load('en_core_web_sm')\n",
    "stop_words = nlp.Defaults.stop_words\n",
    "def remove_stopwords(text):\n",
    "    doc = nlp(text)\n",
    "    return ' '.join([token.text for token in doc if token.text.lower() not in stop_words])\n",
    "# Preprocess texts\n",
    "train_clean = train_df['essay'].apply(remove_stopwords).tolist()\n",
    "\n",
    "# TF-IDF Vectorization\n",
    "tfidf = TfidfVectorizer(ngram_range=(1,2), min_df=1, max_df=0.8)\n",
    "X_tfidf = tfidf.fit_transform(train_clean)\n",
    "\n",
    "# Bag of Words\n",
    "bow = CountVectorizer(ngram_range=(1,2), min_df=1, max_df=0.8)\n",
    "X_bow = bow.fit_transform(train_clean)"
   ]
  },
  {
   "cell_type": "code",
   "execution_count": 44,
   "id": "67b5ab58",
   "metadata": {},
   "outputs": [],
   "source": [
    "bow = CountVectorizer(preprocessor=lambda x: preprocess(x, method='lemmatization'))\n",
    "tfidf = TfidfVectorizer(preprocessor=lambda x: preprocess(x, method='lemmatization'))"
   ]
  },
  {
   "cell_type": "code",
   "execution_count": 45,
   "id": "3cfcb5ec",
   "metadata": {},
   "outputs": [],
   "source": [
    "# Split train/test\n",
    "X = train_df['essay']\n",
    "y = train_df['label']\n",
    "X_train, X_val, y_train, y_val = train_test_split(X, y, test_size=0.2, random_state=42, stratify=y)"
   ]
  },
  {
   "cell_type": "markdown",
   "id": "c8f14872",
   "metadata": {},
   "source": [
    "## Model Development & Optimization"
   ]
  },
  {
   "cell_type": "code",
   "execution_count": 46,
   "id": "a12be1a2",
   "metadata": {},
   "outputs": [],
   "source": [
    "# SVM Pipeline and GridSearchCV\n",
    "svm_pipeline = Pipeline([\n",
    "    ('vectorizer', TfidfVectorizer(preprocessor=preprocess)),\n",
    "    ('classifier', SVC(probability=True, random_state=42))\n",
    "])\n",
    "\n",
    "svm_param_grid = {\n",
    "    'vectorizer__max_features': [1000],\n",
    "    'vectorizer__ngram_range': [(1,1), (1,2), (1,3)],\n",
    "    'classifier__C': [0.1, 1, 10, 100],\n",
    "    'classifier__kernel': ['linear', 'rbf'],\n",
    "    'classifier__gamma': ['scale', 'auto', 0.001, 0.01]\n",
    "}\n",
    "\n",
    "# Decision Tree Pipeline and GridSearchCV\n",
    "dt_pipeline = Pipeline([\n",
    "    ('vectorizer', TfidfVectorizer(preprocessor=preprocess)),\n",
    "    ('classifier', DecisionTreeClassifier(random_state=42))\n",
    "])\n",
    "\n",
    "dt_param_grid = {\n",
    "    'vectorizer__max_features': [1000],\n",
    "    'vectorizer__ngram_range': [(1,1), (1,2), (1,3)],\n",
    "    'classifier__criterion': ['gini', 'entropy'],\n",
    "    'classifier__max_depth': [10, 20, 30, None],\n",
    "    'classifier__min_samples_split': [2, 5, 10],\n",
    "    'classifier__min_samples_leaf': [1, 2, 4]\n",
    "}\n",
    "\n",
    "# AdaBoost Pipeline and GridSearchCV\n",
    "ab_pipeline = Pipeline([\n",
    "    ('vectorizer', TfidfVectorizer(preprocessor=preprocess)),\n",
    "    ('classifier', AdaBoostClassifier(random_state=42))\n",
    "])\n",
    "\n",
    "ab_param_grid = {\n",
    "    # TF-IDF vectorizer hyperparameters\n",
    "    'vectorizer__max_features': [1000, 2000],\n",
    "    'vectorizer__ngram_range': [(1,1), (1,2), (1,3)],\n",
    "\n",
    "    # AdaBoost-specific hyperparameters\n",
    "    'classifier__n_estimators': [50, 100, 200],\n",
    "    'classifier__learning_rate': [0.5, 1.0, 1.5],\n",
    "    # Base estimator defaults to DecisionTree(max_depth=1),\n",
    "    # but you can customize it via the `estimator` parameter:\n",
    "    # 'classifier__estimator__max_depth': [1, 2, 3]\n",
    "\n",
    "    # Control randomness for reproducibility\n",
    "    'classifier__random_state': [42]\n",
    "}"
   ]
  },
  {
   "cell_type": "markdown",
   "id": "7fccc79a",
   "metadata": {},
   "source": [
    "## Hyperparameter Optimization"
   ]
  },
  {
   "cell_type": "code",
   "execution_count": 47,
   "id": "adf36bc0",
   "metadata": {},
   "outputs": [
    {
     "name": "stdout",
     "output_type": "stream",
     "text": [
      "Fitting 5 folds for each of 96 candidates, totalling 480 fits\n"
     ]
    },
    {
     "name": "stdout",
     "output_type": "stream",
     "text": [
      "Best SVM parameters: {'classifier__C': 100, 'classifier__gamma': 0.01, 'classifier__kernel': 'rbf', 'vectorizer__max_features': 1000, 'vectorizer__ngram_range': (1, 2)}\n"
     ]
    }
   ],
   "source": [
    "svm_grid = GridSearchCV(svm_pipeline, svm_param_grid, cv=5, n_jobs=-1, verbose=1, refit=True)\n",
    "svm_grid.fit(X_train, y_train)\n",
    "best_svm = svm_grid.best_params_\n",
    "print('Best SVM parameters:', best_svm)\n",
    "with open(\"../models/svm_model.pkl\", 'wb') as f:\n",
    "    dump(svm_grid.best_estimator_, f, protocol=5)"
   ]
  },
  {
   "cell_type": "code",
   "execution_count": 48,
   "id": "d3ad4c69",
   "metadata": {},
   "outputs": [
    {
     "name": "stdout",
     "output_type": "stream",
     "text": [
      "Fitting 5 folds for each of 216 candidates, totalling 1080 fits\n",
      "Best Decision Tree parameters: {'classifier__criterion': 'gini', 'classifier__max_depth': 10, 'classifier__min_samples_leaf': 1, 'classifier__min_samples_split': 2, 'vectorizer__max_features': 1000, 'vectorizer__ngram_range': (1, 3)}\n"
     ]
    }
   ],
   "source": [
    "dt_grid = GridSearchCV(dt_pipeline, dt_param_grid, cv=5, n_jobs=-1, verbose=1, refit=True)\n",
    "dt_grid.fit(X_train, y_train)\n",
    "best_dt = dt_grid.best_params_\n",
    "print('Best Decision Tree parameters:', best_dt)\n",
    "with open(\"../models/decision_tree_model.pkl\", 'wb') as f:\n",
    "    dump(dt_grid.best_estimator_, f, protocol=5)"
   ]
  },
  {
   "cell_type": "code",
   "execution_count": 49,
   "id": "d949e2d6",
   "metadata": {},
   "outputs": [
    {
     "name": "stdout",
     "output_type": "stream",
     "text": [
      "Fitting 5 folds for each of 54 candidates, totalling 270 fits\n",
      "Best Decision Tree parameters: {'classifier__learning_rate': 1.5, 'classifier__n_estimators': 200, 'classifier__random_state': 42, 'vectorizer__max_features': 2000, 'vectorizer__ngram_range': (1, 3)}\n"
     ]
    }
   ],
   "source": [
    "ab_grid = GridSearchCV(ab_pipeline, ab_param_grid, cv=5, n_jobs=-1, verbose=1, refit=True)\n",
    "ab_grid.fit(X_train, y_train)\n",
    "best_ab = ab_grid.best_params_\n",
    "print('Best Decision Tree parameters:', best_ab)\n",
    "with open(\"../models/adaboost_model.pkl\", 'wb') as f:\n",
    "    dump(ab_grid.best_estimator_, f, protocol=5)"
   ]
  },
  {
   "cell_type": "markdown",
   "id": "c159491b",
   "metadata": {},
   "source": [
    "## Performance Evaluation & Analysis\n",
    "K-fold and Stratified K-fold implementation"
   ]
  },
  {
   "cell_type": "code",
   "execution_count": 50,
   "id": "6724a93e",
   "metadata": {},
   "outputs": [
    {
     "name": "stdout",
     "output_type": "stream",
     "text": [
      "SVM CV mean/std: 0.9560217356100544 0.03012591270322444\n",
      "DT CV mean/std: 0.8388041815859077 0.04050273378600317\n",
      "AB CV mean/std: 0.9415398456195907 0.03453492232850392\n",
      "SVM Stratified CV mean/std: 0.9554722277201 0.006587947997548865\n",
      "DT Stratified CV mean/std: 0.8489788941468592 0.008910003055681029\n",
      "AB Stratified CV mean/std: 0.9503762347733774 0.004478691949080778\n"
     ]
    }
   ],
   "source": [
    "# K-Fold Cross-Validation\n",
    "svm_cv_scores = cross_val_score(svm_grid.best_estimator_, X, y, cv=5)\n",
    "dt_cv_scores = cross_val_score(dt_grid.best_estimator_, X, y, cv=5)\n",
    "ab_cv_scores = cross_val_score(ab_grid.best_estimator_, X, y, cv=5)\n",
    "print('SVM CV mean/std:', svm_cv_scores.mean(), svm_cv_scores.std())\n",
    "print('DT CV mean/std:', dt_cv_scores.mean(), dt_cv_scores.std())\n",
    "print('AB CV mean/std:', ab_cv_scores.mean(), ab_cv_scores.std())\n",
    "\n",
    "# Stratified K-Fold\n",
    "skf = StratifiedKFold(n_splits=5, shuffle=True, random_state=42)\n",
    "svm_strat_scores = cross_val_score(svm_grid.best_estimator_, X, y, cv=skf)\n",
    "dt_strat_scores = cross_val_score(dt_grid.best_estimator_, X, y, cv=skf)\n",
    "ab_strat_scores = cross_val_score(ab_grid.best_estimator_, X, y, cv=skf)\n",
    "print('SVM Stratified CV mean/std:', svm_strat_scores.mean(), svm_strat_scores.std())\n",
    "print('DT Stratified CV mean/std:', dt_strat_scores.mean(), dt_strat_scores.std())\n",
    "print('AB Stratified CV mean/std:', ab_strat_scores.mean(), ab_strat_scores.std())"
   ]
  },
  {
   "cell_type": "markdown",
   "id": "85b9e6a9",
   "metadata": {},
   "source": [
    "#### Statistical analysis of model stability across folds"
   ]
  },
  {
   "cell_type": "code",
   "execution_count": 51,
   "id": "7dbc74d4",
   "metadata": {},
   "outputs": [
    {
     "name": "stdout",
     "output_type": "stream",
     "text": [
      "Levene test p-value: 0.9349600257146234\n",
      "The variances are not significantly different.\n"
     ]
    }
   ],
   "source": [
    "stat, p = levene(svm_cv_scores, dt_cv_scores, ab_cv_scores)\n",
    "print('Levene test p-value:', p)\n",
    "if p < 0.05:\n",
    "    print(\"The variances are significantly different.\")\n",
    "else:\n",
    "    print(\"The variances are not significantly different.\")"
   ]
  },
  {
   "cell_type": "markdown",
   "id": "8a2cf383",
   "metadata": {},
   "source": [
    "Statistical analysis of model stability across folds: we obtain accuracy scores for each fold using cross_val_score() as an array, as well as the coefficient of variance ratio of standard deviation over sample mean."
   ]
  },
  {
   "cell_type": "markdown",
   "id": "da69c248",
   "metadata": {},
   "source": [
    "Compute performance metrics and plot ROC/Precision-Recall curves."
   ]
  },
  {
   "cell_type": "code",
   "execution_count": 52,
   "id": "82669adc",
   "metadata": {},
   "outputs": [
    {
     "name": "stdout",
     "output_type": "stream",
     "text": [
      "SVM Classification Report:\n",
      "              precision    recall  f1-score   support\n",
      "\n",
      "           0       0.95      0.94      0.95       373\n",
      "           1       0.94      0.95      0.95       373\n",
      "\n",
      "    accuracy                           0.95       746\n",
      "   macro avg       0.95      0.95      0.95       746\n",
      "weighted avg       0.95      0.95      0.95       746\n",
      "\n",
      "Confusion Matrix:\n",
      "[[351  22]\n",
      " [ 17 356]]\n",
      "ROC AUC: 0.9883884740061382\n",
      "\n",
      "Decision Tree Classification Report:\n",
      "              precision    recall  f1-score   support\n",
      "\n",
      "           0       0.82      0.91      0.86       373\n",
      "           1       0.89      0.80      0.84       373\n",
      "\n",
      "    accuracy                           0.85       746\n",
      "   macro avg       0.86      0.85      0.85       746\n",
      "weighted avg       0.86      0.85      0.85       746\n",
      "\n",
      "Confusion Matrix:\n",
      "[[338  35]\n",
      " [ 76 297]]\n",
      "ROC AUC: 0.8739155747543647\n",
      "\n"
     ]
    }
   ],
   "source": [
    "# Evaluate on validation set\n",
    "models = {'SVM': svm_grid.best_estimator_, 'Decision Tree': dt_grid.best_estimator_}\n",
    "for name, model in models.items():\n",
    "    preds = model.predict(X_val)\n",
    "    probs = model.predict_proba(X_val)[:,1]\n",
    "    print(f\"{name} Classification Report:\")\n",
    "    print(classification_report(y_val, preds))\n",
    "    cm = confusion_matrix(y_val, preds)\n",
    "    print(f\"Confusion Matrix:\\n{cm}\")\n",
    "    roc_auc = roc_auc_score(y_val, probs)\n",
    "    print(f\"ROC AUC: {roc_auc}\\n\")\n"
   ]
  },
  {
   "cell_type": "code",
   "execution_count": 53,
   "id": "ac9c43e9",
   "metadata": {},
   "outputs": [
    {
     "name": "stdout",
     "output_type": "stream",
     "text": [
      "AdaBoost Classification Report:\n",
      "              precision    recall  f1-score   support\n",
      "\n",
      "           0       0.95      0.94      0.94       373\n",
      "           1       0.94      0.95      0.94       373\n",
      "\n",
      "    accuracy                           0.94       746\n",
      "   macro avg       0.94      0.94      0.94       746\n",
      "weighted avg       0.94      0.94      0.94       746\n",
      "\n",
      "Confusion Matrix:\n",
      "[[349  24]\n",
      " [ 20 353]]\n",
      "ROC AUC: 0.9868539269311215\n",
      "\n"
     ]
    }
   ],
   "source": [
    "# Evaluate on validation set\n",
    "models = {'AdaBoost': ab_grid.best_estimator_}\n",
    "for name, model in models.items():\n",
    "    preds = model.predict(X_val)\n",
    "    probs = model.predict_proba(X_val)[:,1]\n",
    "    print(f\"{name} Classification Report:\")\n",
    "    print(classification_report(y_val, preds))\n",
    "    cm = confusion_matrix(y_val, preds)\n",
    "    print(f\"Confusion Matrix:\\n{cm}\")\n",
    "    roc_auc = roc_auc_score(y_val, probs)\n",
    "    print(f\"ROC AUC: {roc_auc}\\n\")\n"
   ]
  },
  {
   "cell_type": "code",
   "execution_count": 54,
   "id": "c78d6d92",
   "metadata": {},
   "outputs": [
    {
     "data": {
      "image/png": "[encoded data removed]",
      "text/plain": [
       "<Figure size 640x480 with 1 Axes>"
      ]
     },
     "metadata": {},
     "output_type": "display_data"
    }
   ],
   "source": [
    "# Plot ROC curves\n",
    "models = {'SVM': svm_grid.best_estimator_, 'Decision Tree': dt_grid.best_estimator_, 'AdaBoost': ab_grid.best_estimator_}\n",
    "plt.figure()\n",
    "for name, model in models.items():\n",
    "    probs = model.predict_proba(X_val)[:,1]\n",
    "    fpr, tpr, _ = roc_curve(y_val, probs)\n",
    "    plt.plot(fpr, tpr, label=f\"{name} (AUC={roc_auc_score(y_val, probs):.2f})\")\n",
    "plt.plot([0,1], [0,1], 'k--')\n",
    "plt.title('ROC Curves')\n",
    "plt.xlabel('False Positive Rate')\n",
    "plt.ylabel('True Positive Rate')\n",
    "plt.legend()\n",
    "plt.show()"
   ]
  },
  {
   "cell_type": "markdown",
   "id": "afc92e81",
   "metadata": {},
   "source": [
    "Generate predictions on the test set and save to CSV."
   ]
  },
  {
   "cell_type": "markdown",
   "id": "f3bf4bf4",
   "metadata": {},
   "source": [
    "#### Results summary and discussion\n",
    "From the results above we can easily see that the best SVM and AdaBoost model outperform the best DT in this specific task with this specific dataset, since best SVM has higher accuracy, precision, recall and f-1 score than best DT."
   ]
  },
  {
   "cell_type": "markdown",
   "id": "be5dffa9",
   "metadata": {},
   "source": [
    "### Deep Analysis\n",
    "Statistical significance testing between SVM and Decision Tree CV scores."
   ]
  },
  {
   "cell_type": "markdown",
   "id": "1beee06d",
   "metadata": {},
   "source": [
    "H_null: SVM performance = DT performance  \n",
    "H_alt: SVM performance != DT performance"
   ]
  },
  {
   "cell_type": "code",
   "execution_count": 56,
   "id": "58b17bd8",
   "metadata": {},
   "outputs": [
    {
     "name": "stdout",
     "output_type": "stream",
     "text": [
      "Paired t-test t-statistic: 21.237, p-value: 0.000\n"
     ]
    }
   ],
   "source": [
    "svm_scores = cross_val_score(svm_grid.best_estimator_, X, y, cv=5)\n",
    "dt_scores = cross_val_score(dt_grid.best_estimator_, X, y, cv=5)\n",
    "t_stat, p_value = ttest_rel(svm_scores, dt_scores)\n",
    "print(f'Paired t-test t-statistic: {t_stat:.3f}, p-value: {p_value:.3f}')"
   ]
  },
  {
   "cell_type": "markdown",
   "id": "aa55f41f",
   "metadata": {},
   "source": [
    "Based on the results of the t test we have sufficient evidence to reject the null hypothesis and that there is statistically significant difference between best SVM performance and best DT performance when classifying this specific dataset assigned to us in assignment 2. And from the positive 14 t statistic we know the best SVM performs much better at classfying human vs AI texts than the best DT model. the ROC curve as well as AUC score also corresponds to this point since SVM AUC score is much higher then the DT AUC score."
   ]
  }
 ],
 "metadata": {
  "kernelspec": {
   "display_name": "base",
   "language": "python",
   "name": "python3"
  },
  "language_info": {
   "codemirror_mode": {
    "name": "ipython",
    "version": 3
   },
   "file_extension": ".py",
   "mimetype": "text/x-python",
   "name": "python",
   "nbconvert_exporter": "python",
   "pygments_lexer": "ipython3",
   "version": "3.12.11"
  }
 },
 "nbformat": 4,
 "nbformat_minor": 5
}
