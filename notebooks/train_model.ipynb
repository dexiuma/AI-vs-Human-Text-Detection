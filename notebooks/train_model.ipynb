{
 "cells": [
  {
   "cell_type": "markdown",
   "metadata": {},
   "source": [
    "# AI vs Human Text Detection Model Training Notebook(Deep Learning Models)\n",
    "This notebook covers:\n",
    "1. Data Analysis & Preprocessing\n",
    "2. Feature Engineering (TF-IDF, Word2Vec/GloVe/fastText) & Selection\n",
    "3. Model Development & Hyperparameter Tuning (SVM, Decision Tree, AdaBoost, CNN, LSTM, RNN)\n",
    "4. Performance Evaluation & Analysis (accuracy, confusion matrix, ROC curves)\n",
    "5. Saving all trained models and TF-IDF vectorizer\n",
    "\n",
    "Utilizes all available GPUs via PyTorch DataParallel.  "
   ]
  },
  {
   "cell_type": "code",
   "execution_count": null,
   "metadata": {},
   "outputs": [],
   "source": [
    "# Imports\n",
    "import os\n",
    "import pandas as pd\n",
    "import numpy as np\n",
    "import pickle\n",
    "import matplotlib.pyplot as plt\n",
    "from sklearn.feature_extraction.text import TfidfVectorizer\n",
    "from sklearn.model_selection import train_test_split, GridSearchCV\n",
    "from sklearn.svm import SVC\n",
    "from sklearn.tree import DecisionTreeClassifier\n",
    "from sklearn.ensemble import AdaBoostClassifier\n",
    "from sklearn.metrics import accuracy_score, confusion_matrix, roc_curve, auc, classification_report\n",
    "import torch\n",
    "import torch.nn as nn\n",
    "from torch.utils.data import Dataset, DataLoader"
   ]
  },
  {
   "cell_type": "code",
   "execution_count": 2,
   "metadata": {},
   "outputs": [
    {
     "name": "stdout",
     "output_type": "stream",
     "text": [
      "PyTorch CUDA build version: 12.8\n",
      "cuDNN version: 90701\n",
      "Number of GPUs: 1\n",
      "  GPU 0: NVIDIA GeForce RTX 5090\n"
     ]
    }
   ],
   "source": [
    "# Device and GPU setup\n",
    "print(f\"PyTorch CUDA build version: {torch.version.cuda}\")\n",
    "print(f\"cuDNN version: {torch.backends.cudnn.version()}\")\n",
    "print(f\"Number of GPUs: {torch.cuda.device_count()}\")\n",
    "for i in range(torch.cuda.device_count()):\n",
    "    print(f\"  GPU {i}: {torch.cuda.get_device_name(i)}\")\n",
    "n_gpus = torch.cuda.device_count()\n",
    "device = torch.device(\"cuda\" if torch.cuda.is_available() else \"cpu\")"
   ]
  },
  {
   "cell_type": "code",
   "execution_count": 3,
   "metadata": {},
   "outputs": [
    {
     "name": "stdout",
     "output_type": "stream",
     "text": [
      "(3728, 2)\n"
     ]
    },
    {
     "data": {
      "text/html": [
       "<div>\n",
       "<style scoped>\n",
       "    .dataframe tbody tr th:only-of-type {\n",
       "        vertical-align: middle;\n",
       "    }\n",
       "\n",
       "    .dataframe tbody tr th {\n",
       "        vertical-align: top;\n",
       "    }\n",
       "\n",
       "    .dataframe thead th {\n",
       "        text-align: right;\n",
       "    }\n",
       "</style>\n",
       "<table border=\"1\" class=\"dataframe\">\n",
       "  <thead>\n",
       "    <tr style=\"text-align: right;\">\n",
       "      <th></th>\n",
       "      <th>text</th>\n",
       "      <th>label</th>\n",
       "    </tr>\n",
       "  </thead>\n",
       "  <tbody>\n",
       "    <tr>\n",
       "      <th>0</th>\n",
       "      <td>International sports events require the most w...</td>\n",
       "      <td>0</td>\n",
       "    </tr>\n",
       "    <tr>\n",
       "      <th>1</th>\n",
       "      <td>Globalisation has become a significant aspect ...</td>\n",
       "      <td>0</td>\n",
       "    </tr>\n",
       "    <tr>\n",
       "      <th>2</th>\n",
       "      <td>There is an ever-increasing number of bullying...</td>\n",
       "      <td>0</td>\n",
       "    </tr>\n",
       "    <tr>\n",
       "      <th>3</th>\n",
       "      <td>It is commonly believed, that companies should...</td>\n",
       "      <td>0</td>\n",
       "    </tr>\n",
       "    <tr>\n",
       "      <th>4</th>\n",
       "      <td>Despite knowing about the adverse effects of c...</td>\n",
       "      <td>0</td>\n",
       "    </tr>\n",
       "  </tbody>\n",
       "</table>\n",
       "</div>"
      ],
      "text/plain": [
       "                                                text  label\n",
       "0  International sports events require the most w...      0\n",
       "1  Globalisation has become a significant aspect ...      0\n",
       "2  There is an ever-increasing number of bullying...      0\n",
       "3  It is commonly believed, that companies should...      0\n",
       "4  Despite knowing about the adverse effects of c...      0"
      ]
     },
     "execution_count": 3,
     "metadata": {},
     "output_type": "execute_result"
    }
   ],
   "source": [
    "# Load Data\n",
    "data = pd.read_excel('../data/AI_vs_huam_train_dataset.xlsx')  \n",
    "data.rename(columns={'essay': 'text'}, inplace=True) \n",
    "texts = data['text']\n",
    "labels = data['label']\n",
    "print(data.shape)\n",
    "data.head()"
   ]
  },
  {
   "cell_type": "code",
   "execution_count": 4,
   "metadata": {},
   "outputs": [
    {
     "name": "stderr",
     "output_type": "stream",
     "text": [
      "[nltk_data] Downloading package punkt to /root/nltk_data...\n",
      "[nltk_data]   Unzipping tokenizers/punkt.zip.\n",
      "[nltk_data] Downloading package stopwords to /root/nltk_data...\n",
      "[nltk_data]   Unzipping corpora/stopwords.zip.\n",
      "[nltk_data] Downloading package punkt_tab to /root/nltk_data...\n",
      "[nltk_data]   Unzipping tokenizers/punkt_tab.zip.\n"
     ]
    },
    {
     "data": {
      "text/plain": [
       "0    international sports events require athletes c...\n",
       "1    globalisation become significant aspect world ...\n",
       "2    number bullying activities numerous schools al...\n",
       "3    commonly believed companies dress code policy ...\n",
       "4    despite knowing adverse effects climate change...\n",
       "Name: clean, dtype: object"
      ]
     },
     "execution_count": 4,
     "metadata": {},
     "output_type": "execute_result"
    }
   ],
   "source": [
    "# Data Analysis & Preprocessing\n",
    "import nltk\n",
    "nltk.download('punkt')\n",
    "nltk.download('stopwords')\n",
    "nltk.download('punkt_tab') \n",
    "from nltk.corpus import stopwords\n",
    "from nltk.tokenize import word_tokenize\n",
    "\n",
    "def preprocess(text):\n",
    "    tokens = word_tokenize(text.lower())\n",
    "    tokens = [t for t in tokens if t.isalpha()]\n",
    "    tokens = [t for t in tokens if t not in stopwords.words('english')]\n",
    "    return ' '.join(tokens)\n",
    "\n",
    "data['clean'] = data['text'].apply(preprocess)\n",
    "data['clean'].head()"
   ]
  },
  {
   "cell_type": "code",
   "execution_count": 5,
   "metadata": {},
   "outputs": [],
   "source": [
    "# Feature Engineering: TF-IDF\n",
    "vectorizer = TfidfVectorizer(max_features=5000)\n",
    "X_tfidf = vectorizer.fit_transform(data['clean'])\n",
    "# Save vectorizer\n",
    "os.makedirs('models', exist_ok=True)\n",
    "with open('models/tfidf_vectorizer.pkl', 'wb') as f:\n",
    "    pickle.dump(vectorizer, f)\n"
   ]
  },
  {
   "cell_type": "code",
   "execution_count": 6,
   "metadata": {},
   "outputs": [
    {
     "name": "stdout",
     "output_type": "stream",
     "text": [
      "Embeddings loading stubs included\n"
     ]
    }
   ],
   "source": [
    "# Load Pre-trained Embeddings\n",
    "# word2vec = KeyedVectors.load_word2vec_format('path/to/GoogleNews-vectors-negative300.bin', binary=True)\n",
    "# glove = KeyedVectors.load_word2vec_format('path/to/glove.txt')\n",
    "# fasttext = KeyedVectors.load('path/to/fasttext.bin')\n",
    "print(\"Embeddings loading stubs included\")"
   ]
  },
  {
   "cell_type": "code",
   "execution_count": 7,
   "metadata": {},
   "outputs": [],
   "source": [
    "# Train/Test Split\n",
    "X_train, X_test, y_train, y_test = train_test_split(\n",
    "    X_tfidf, labels, test_size=0.2, random_state=42\n",
    ")"
   ]
  },
  {
   "cell_type": "code",
   "execution_count": 8,
   "metadata": {},
   "outputs": [
    {
     "name": "stdout",
     "output_type": "stream",
     "text": [
      "Training svm...\n",
      "Saved svm\n",
      "Training decision_tree...\n",
      "Saved decision_tree\n",
      "Training adaboost...\n",
      "Saved adaboost\n"
     ]
    }
   ],
   "source": [
    "# Machine Learning Models Training & Saving\n",
    "ml_models = {\n",
    "    'svm': SVC(probability=True),\n",
    "    'decision_tree': DecisionTreeClassifier(),\n",
    "    'adaboost': AdaBoostClassifier()\n",
    "}\n",
    "params = {\n",
    "    'svm': {'C': [0.1,1,10], 'kernel': ['linear','rbf']},\n",
    "    'decision_tree': {'max_depth': [10,50,None]},\n",
    "    'adaboost': {'n_estimators':[50,100], 'learning_rate':[0.5,1.0]}\n",
    "}\n",
    "for name, model in ml_models.items():\n",
    "    print(f\"Training {name}...\")\n",
    "    grid = GridSearchCV(model, params[name], cv=3, n_jobs=-1)\n",
    "    grid.fit(X_train, y_train)\n",
    "    best = grid.best_estimator_\n",
    "    with open(f'models/{name}_model.pkl','wb') as f:\n",
    "        pickle.dump(best, f)\n",
    "    print(f\"Saved {name}\")"
   ]
  },
  {
   "cell_type": "code",
   "execution_count": 9,
   "metadata": {},
   "outputs": [],
   "source": [
    "# PyTorch Dataset\n",
    "class TextDataset(Dataset):\n",
    "    def __init__(self, X, y):\n",
    "        self.X = torch.tensor(X.toarray(), dtype=torch.float32)\n",
    "        self.y = torch.tensor(y.values, dtype=torch.long)\n",
    "    def __len__(self): return len(self.y)\n",
    "    def __getitem__(self, idx): return self.X[idx], self.y[idx]\n",
    "\n",
    "train_ds = TextDataset(X_train, y_train)\n",
    "test_ds = TextDataset(X_test, y_test)\n",
    "train_loader = DataLoader(train_ds, batch_size=32, shuffle=True)\n",
    "test_loader = DataLoader(test_ds, batch_size=32)"
   ]
  },
  {
   "cell_type": "code",
   "execution_count": 10,
   "metadata": {},
   "outputs": [],
   "source": [
    "# Deep Learning Models\n",
    "class CNNModel(nn.Module):\n",
    "    def __init__(self, input_dim, output_dim):\n",
    "        super().__init__()\n",
    "        self.conv1 = nn.Conv1d(1,16,3,padding=1)\n",
    "        self.pool = nn.MaxPool1d(2)\n",
    "        self.fc = nn.Linear((input_dim//2)*16, output_dim)\n",
    "    def forward(self,x):\n",
    "        x = x.unsqueeze(1)\n",
    "        x = torch.relu(self.conv1(x))\n",
    "        x = self.pool(x)\n",
    "        return self.fc(x.view(x.size(0),-1))\n",
    "\n",
    "class LSTMModel(nn.Module):\n",
    "    def __init__(self, input_dim, hidden_dim, output_dim):\n",
    "        super().__init__()\n",
    "        # input_dim = 5000 features\n",
    "        self.lstm = nn.LSTM(input_dim, hidden_dim, batch_first=True)\n",
    "        self.fc = nn.Linear(hidden_dim, output_dim)\n",
    "\n",
    "    def forward(self, x):\n",
    "        # x: (batch, features)\n",
    "        x = x.unsqueeze(1)          # -> (batch, seq_len=1, features=5000)\n",
    "        out, _ = self.lstm(x)       \n",
    "        return self.fc(out[:, -1, :])\n",
    "\n",
    "class RNNModel(nn.Module):\n",
    "    def __init__(self, input_dim, hidden_dim, output_dim):\n",
    "        super().__init__()\n",
    "        self.rnn = nn.RNN(input_dim, hidden_dim, batch_first=True)\n",
    "        self.fc = nn.Linear(hidden_dim, output_dim)\n",
    "\n",
    "    def forward(self, x):\n",
    "        x = x.unsqueeze(1)          # -> (batch, 1, features)\n",
    "        out, _ = self.rnn(x)\n",
    "        return self.fc(out[:, -1, :])\n"
   ]
  },
  {
   "cell_type": "code",
   "execution_count": 11,
   "metadata": {},
   "outputs": [
    {
     "name": "stdout",
     "output_type": "stream",
     "text": [
      "Training CNN...\n",
      "Saved CNN\n",
      "Training LSTM...\n",
      "Saved LSTM\n",
      "Training RNN...\n",
      "Saved RNN\n"
     ]
    }
   ],
   "source": [
    "# Wrap models for multi-GPU & train\n",
    "input_dim = train_ds.X.shape[1]\n",
    "output_dim = len(set(labels))\n",
    "hidden_dim = 128\n",
    "\n",
    "raw = {'CNN':CNNModel(input_dim,output_dim),'LSTM':LSTMModel(input_dim,hidden_dim,output_dim),'RNN':RNNModel(input_dim,hidden_dim,output_dim)}\n",
    "dl_models = {}\n",
    "for name, model in raw.items():\n",
    "    if n_gpus > 1: model = nn.DataParallel(model)\n",
    "    dl_models[name] = model.to(device)\n",
    "\n",
    "criterion = nn.CrossEntropyLoss()\n",
    "for name, model in dl_models.items():\n",
    "    optimizer = torch.optim.Adam(model.parameters(),lr=1e-3)\n",
    "    print(f\"Training {name}...\")\n",
    "    for epoch in range(5):\n",
    "        for X_batch, y_batch in train_loader:\n",
    "            X_batch, y_batch = X_batch.to(device), y_batch.to(device)\n",
    "            optimizer.zero_grad()\n",
    "            out = model(X_batch)\n",
    "            loss = criterion(out, y_batch)\n",
    "            loss.backward()\n",
    "            optimizer.step()\n",
    "    save_mod = model.module if isinstance(model, nn.DataParallel) else model\n",
    "    torch.save(save_mod.state_dict(),f'models/{name}.pkl')\n",
    "    print(f\"Saved {name}\")"
   ]
  },
  {
   "cell_type": "code",
   "execution_count": null,
   "id": "3518349d",
   "metadata": {},
   "outputs": [
    {
     "name": "stdout",
     "output_type": "stream",
     "text": [
      "Processing svm...\n",
      "Processing decision_tree...\n",
      "Processing adaboost...\n",
      "Processing CNN...\n",
      "Processing LSTM...\n",
      "Processing RNN...\n",
      "All predictions computed!\n"
     ]
    }
   ],
   "source": [
    "# --- Precompute Predictions and Probabilities ---\n",
    "import numpy as np\n",
    "from sklearn.metrics import classification_report, confusion_matrix, roc_curve, auc, accuracy_score\n",
    "\n",
    "model_predictions = {}\n",
    "model_probabilities = {}\n",
    "y_true = y_test.values\n",
    "\n",
    "for name in list(ml_models.keys()) + list(dl_models.keys()):\n",
    "    print(f\"Processing {name}...\")\n",
    "    if name in ml_models:\n",
    "        # Load scikit-learn model\n",
    "        with open(f'models/{name}_model.pkl','rb') as f:\n",
    "            m = pickle.load(f)\n",
    "        # Handle sparse matrix\n",
    "        X_test_array = X_test.toarray() if hasattr(X_test, 'toarray') else X_test\n",
    "        model_predictions[name] = m.predict(X_test_array)\n",
    "        model_probabilities[name] = m.predict_proba(X_test_array)[:, 1]\n",
    "    else:\n",
    "        # PyTorch model evaluation\n",
    "        mdl = dl_models[name]\n",
    "        mdl.eval()\n",
    "        all_preds = []\n",
    "        all_probs = []\n",
    "        with torch.no_grad():\n",
    "            for X_batch, _ in test_loader:\n",
    "                X_batch = X_batch.to(device)\n",
    "                out = mdl(X_batch)\n",
    "                prob = torch.softmax(out, 1)[:,1].cpu().numpy()\n",
    "                pred = torch.argmax(out, 1).cpu().numpy()\n",
    "                all_probs.extend(prob.tolist())\n",
    "                all_preds.extend(pred.tolist())\n",
    "        model_predictions[name] = np.array(all_preds)\n",
    "        model_probabilities[name] = np.array(all_probs)\n",
    "\n",
    "print(\"All predictions computed!\")"
   ]
  },
  {
   "cell_type": "code",
   "execution_count": 17,
   "id": "63b264dc",
   "metadata": {},
   "outputs": [
    {
     "name": "stdout",
     "output_type": "stream",
     "text": [
      "\n",
      "==================================================\n",
      "Evaluating svm\n",
      "==================================================\n",
      "svm Classification Report:\n",
      "              precision    recall  f1-score   support\n",
      "\n",
      "           0      0.989     0.952     0.970       393\n",
      "           1      0.948     0.989     0.968       353\n",
      "\n",
      "    accuracy                          0.969       746\n",
      "   macro avg      0.969     0.970     0.969       746\n",
      "weighted avg      0.970     0.969     0.969       746\n",
      "\n",
      "\n",
      "svm Confusion Matrix:\n",
      "[[374  19]\n",
      " [  4 349]]\n",
      "\n",
      "svm ROC AUC: 0.9963\n",
      "svm Accuracy: 0.9692\n"
     ]
    }
   ],
   "source": [
    "# --- SVM Evaluation ---\n",
    "name = 'svm'\n",
    "print(f\"\\n{'='*50}\")\n",
    "print(f\"Evaluating {name}\")\n",
    "print('='*50)\n",
    "\n",
    "print(f\"{name} Classification Report:\")\n",
    "print(classification_report(y_true, model_predictions[name], digits=3))\n",
    "\n",
    "print(f\"\\n{name} Confusion Matrix:\")\n",
    "print(confusion_matrix(y_true, model_predictions[name]))\n",
    "\n",
    "fpr, tpr, _ = roc_curve(y_true, model_probabilities[name])\n",
    "roc_auc = auc(fpr, tpr)\n",
    "print(f\"\\n{name} ROC AUC: {roc_auc:.4f}\")\n",
    "print(f\"{name} Accuracy: {accuracy_score(y_true, model_predictions[name]):.4f}\")"
   ]
  },
  {
   "cell_type": "code",
   "execution_count": 18,
   "id": "3b16d94b",
   "metadata": {},
   "outputs": [
    {
     "name": "stdout",
     "output_type": "stream",
     "text": [
      "\n",
      "==================================================\n",
      "Evaluating decision_tree\n",
      "==================================================\n",
      "decision_tree Classification Report:\n",
      "              precision    recall  f1-score   support\n",
      "\n",
      "           0      0.858     0.875     0.866       393\n",
      "           1      0.858     0.839     0.848       353\n",
      "\n",
      "    accuracy                          0.858       746\n",
      "   macro avg      0.858     0.857     0.857       746\n",
      "weighted avg      0.858     0.858     0.858       746\n",
      "\n",
      "\n",
      "decision_tree Confusion Matrix:\n",
      "[[344  49]\n",
      " [ 57 296]]\n",
      "\n",
      "decision_tree ROC AUC: 0.8413\n",
      "decision_tree Accuracy: 0.8579\n"
     ]
    }
   ],
   "source": [
    "# --- Decision Tree Evaluation ---\n",
    "name = 'decision_tree'\n",
    "print(f\"\\n{'='*50}\")\n",
    "print(f\"Evaluating {name}\")\n",
    "print('='*50)\n",
    "\n",
    "print(f\"{name} Classification Report:\")\n",
    "print(classification_report(y_true, model_predictions[name], digits=3))\n",
    "\n",
    "print(f\"\\n{name} Confusion Matrix:\")\n",
    "print(confusion_matrix(y_true, model_predictions[name]))\n",
    "\n",
    "fpr, tpr, _ = roc_curve(y_true, model_probabilities[name])\n",
    "roc_auc = auc(fpr, tpr)\n",
    "print(f\"\\n{name} ROC AUC: {roc_auc:.4f}\")\n",
    "print(f\"{name} Accuracy: {accuracy_score(y_true, model_predictions[name]):.4f}\")"
   ]
  },
  {
   "cell_type": "code",
   "execution_count": 19,
   "id": "698735ee",
   "metadata": {},
   "outputs": [
    {
     "name": "stdout",
     "output_type": "stream",
     "text": [
      "\n",
      "==================================================\n",
      "Evaluating adaboost\n",
      "==================================================\n",
      "adaboost Classification Report:\n",
      "              precision    recall  f1-score   support\n",
      "\n",
      "           0      0.972     0.954     0.963       393\n",
      "           1      0.950     0.969     0.959       353\n",
      "\n",
      "    accuracy                          0.961       746\n",
      "   macro avg      0.961     0.962     0.961       746\n",
      "weighted avg      0.961     0.961     0.961       746\n",
      "\n",
      "\n",
      "adaboost Confusion Matrix:\n",
      "[[375  18]\n",
      " [ 11 342]]\n",
      "\n",
      "adaboost ROC AUC: 0.9909\n",
      "adaboost Accuracy: 0.9611\n"
     ]
    }
   ],
   "source": [
    "# --- AdaBoost Evaluation ---\n",
    "name = 'adaboost'\n",
    "print(f\"\\n{'='*50}\")\n",
    "print(f\"Evaluating {name}\")\n",
    "print('='*50)\n",
    "\n",
    "print(f\"{name} Classification Report:\")\n",
    "print(classification_report(y_true, model_predictions[name], digits=3))\n",
    "\n",
    "print(f\"\\n{name} Confusion Matrix:\")\n",
    "print(confusion_matrix(y_true, model_predictions[name]))\n",
    "\n",
    "fpr, tpr, _ = roc_curve(y_true, model_probabilities[name])\n",
    "roc_auc = auc(fpr, tpr)\n",
    "print(f\"\\n{name} ROC AUC: {roc_auc:.4f}\")\n",
    "print(f\"{name} Accuracy: {accuracy_score(y_true, model_predictions[name]):.4f}\")"
   ]
  },
  {
   "cell_type": "code",
   "execution_count": 20,
   "id": "1a5a64d1",
   "metadata": {},
   "outputs": [
    {
     "name": "stdout",
     "output_type": "stream",
     "text": [
      "\n",
      "==================================================\n",
      "Evaluating CNN\n",
      "==================================================\n",
      "CNN Classification Report:\n",
      "              precision    recall  f1-score   support\n",
      "\n",
      "           0      0.984     0.919     0.950       393\n",
      "           1      0.916     0.983     0.948       353\n",
      "\n",
      "    accuracy                          0.949       746\n",
      "   macro avg      0.950     0.951     0.949       746\n",
      "weighted avg      0.951     0.949     0.949       746\n",
      "\n",
      "\n",
      "CNN Confusion Matrix:\n",
      "[[361  32]\n",
      " [  6 347]]\n",
      "\n",
      "CNN ROC AUC: 0.9911\n",
      "CNN Accuracy: 0.9491\n"
     ]
    }
   ],
   "source": [
    "# --- CNN Evaluation ---\n",
    "name = 'CNN'\n",
    "print(f\"\\n{'='*50}\")\n",
    "print(f\"Evaluating {name}\")\n",
    "print('='*50)\n",
    "\n",
    "print(f\"{name} Classification Report:\")\n",
    "print(classification_report(y_true, model_predictions[name], digits=3))\n",
    "\n",
    "print(f\"\\n{name} Confusion Matrix:\")\n",
    "print(confusion_matrix(y_true, model_predictions[name]))\n",
    "\n",
    "fpr, tpr, _ = roc_curve(y_true, model_probabilities[name])\n",
    "roc_auc = auc(fpr, tpr)\n",
    "print(f\"\\n{name} ROC AUC: {roc_auc:.4f}\")\n",
    "print(f\"{name} Accuracy: {accuracy_score(y_true, model_predictions[name]):.4f}\")"
   ]
  },
  {
   "cell_type": "code",
   "execution_count": 21,
   "id": "24e0637b",
   "metadata": {},
   "outputs": [
    {
     "name": "stdout",
     "output_type": "stream",
     "text": [
      "\n",
      "==================================================\n",
      "Evaluating LSTM\n",
      "==================================================\n",
      "LSTM Classification Report:\n",
      "              precision    recall  f1-score   support\n",
      "\n",
      "           0      0.987     0.959     0.973       393\n",
      "           1      0.956     0.986     0.971       353\n",
      "\n",
      "    accuracy                          0.972       746\n",
      "   macro avg      0.971     0.973     0.972       746\n",
      "weighted avg      0.972     0.972     0.972       746\n",
      "\n",
      "\n",
      "LSTM Confusion Matrix:\n",
      "[[377  16]\n",
      " [  5 348]]\n",
      "\n",
      "LSTM ROC AUC: 0.9964\n",
      "LSTM Accuracy: 0.9718\n"
     ]
    }
   ],
   "source": [
    "# --- LSTM Evaluation ---\n",
    "name = 'LSTM'\n",
    "print(f\"\\n{'='*50}\")\n",
    "print(f\"Evaluating {name}\")\n",
    "print('='*50)\n",
    "\n",
    "print(f\"{name} Classification Report:\")\n",
    "print(classification_report(y_true, model_predictions[name], digits=3))\n",
    "\n",
    "print(f\"\\n{name} Confusion Matrix:\")\n",
    "print(confusion_matrix(y_true, model_predictions[name]))\n",
    "\n",
    "fpr, tpr, _ = roc_curve(y_true, model_probabilities[name])\n",
    "roc_auc = auc(fpr, tpr)\n",
    "print(f\"\\n{name} ROC AUC: {roc_auc:.4f}\")\n",
    "print(f\"{name} Accuracy: {accuracy_score(y_true, model_predictions[name]):.4f}\")"
   ]
  },
  {
   "cell_type": "code",
   "execution_count": 22,
   "id": "77cb8350",
   "metadata": {},
   "outputs": [
    {
     "name": "stdout",
     "output_type": "stream",
     "text": [
      "\n",
      "==================================================\n",
      "Evaluating RNN\n",
      "==================================================\n",
      "RNN Classification Report:\n",
      "              precision    recall  f1-score   support\n",
      "\n",
      "           0      0.990     0.959     0.974       393\n",
      "           1      0.956     0.989     0.972       353\n",
      "\n",
      "    accuracy                          0.973       746\n",
      "   macro avg      0.973     0.974     0.973       746\n",
      "weighted avg      0.974     0.973     0.973       746\n",
      "\n",
      "\n",
      "RNN Confusion Matrix:\n",
      "[[377  16]\n",
      " [  4 349]]\n",
      "\n",
      "RNN ROC AUC: 0.9970\n",
      "RNN Accuracy: 0.9732\n"
     ]
    }
   ],
   "source": [
    "# --- RNN Evaluation ---\n",
    "name = 'RNN'\n",
    "print(f\"\\n{'='*50}\")\n",
    "print(f\"Evaluating {name}\")\n",
    "print('='*50)\n",
    "\n",
    "print(f\"{name} Classification Report:\")\n",
    "print(classification_report(y_true, model_predictions[name], digits=3))\n",
    "\n",
    "print(f\"\\n{name} Confusion Matrix:\")\n",
    "print(confusion_matrix(y_true, model_predictions[name]))\n",
    "\n",
    "fpr, tpr, _ = roc_curve(y_true, model_probabilities[name])\n",
    "roc_auc = auc(fpr, tpr)\n",
    "print(f\"\\n{name} ROC AUC: {roc_auc:.4f}\")\n",
    "print(f\"{name} Accuracy: {accuracy_score(y_true, model_predictions[name]):.4f}\")"
   ]
  },
  {
   "cell_type": "code",
   "execution_count": 23,
   "id": "80d7d3e2",
   "metadata": {},
   "outputs": [
    {
     "data": {
      "image/png": "[encoded data removed]",
      "text/plain": [
       "<Figure size 1000x800 with 1 Axes>"
      ]
     },
     "metadata": {},
     "output_type": "display_data"
    }
   ],
   "source": [
    "# Plot ROC Curves\n",
    "plt.figure(figsize=(10, 8))\n",
    "for nm, (fpr, tpr, auc_val) in results.items():\n",
    "    plt.plot(fpr, tpr, label=f\"{nm} (AUC={auc_val:.3f})\")\n",
    "plt.plot([0,1], [0,1], 'k--')\n",
    "plt.xlabel('False Positive Rate')\n",
    "plt.ylabel('True Positive Rate')\n",
    "plt.title('ROC Curves Comparison')\n",
    "plt.legend(loc='lower right')\n",
    "plt.grid(True)\n",
    "plt.savefig('models/roc_curves.png')\n",
    "plt.show()"
   ]
  },
  {
   "cell_type": "markdown",
   "id": "17acf77c",
   "metadata": {},
   "source": [
    "Neural vs Traditional Models:\n",
    "\n",
    "    RNN/LSTM outperform all traditional models by about 3% acc\n",
    "\n",
    "    SVM performs good against neural models (only 0.4% behind RNN)\n",
    "\n",
    "Class-Specific Patterns:\n",
    "\n",
    "    Class 0 (human) is easier to identify (higher precision)\n",
    "\n",
    "    Class 1 (AI) benefits from sequence modeling (RNN/LSTM have best recall)\n",
    "\n",
    "Error Analysis:\n",
    "\n",
    "    Decision Tree has symmetrical errors\n",
    "\n",
    "    CNN has asymmetric errors (poor class 0 recall)\n",
    "\n",
    "    RNN has most balanced error profile\n",
    "\n",
    "ROC AUC Correlation:\n",
    "Models with AUC > 0.99 (all except Decision Tree) achieve >94% accuracy, showing area under the curve (AUC) score is a reliable predictor of overall performance.\n",
    "\n",
    "Resource-Performance Tradeoff:\n",
    "\n",
    "    For CPU: Use SVM (99.6% of RNN's performance)\n",
    "\n",
    "    For maximum accuracy: Use RNN despite higher resource needs\n",
    "\n",
    "Recommendations:\n",
    "\n",
    "Primary Model: RNN for best overall performance\n",
    "\n",
    "Lightweight Alternative: SVM for CPU deployments\n",
    "\n",
    "Special Cases:\n",
    "\n",
    "    Max class 0 precision: SVM\n",
    "\n",
    "    Max class 1 recall: CNN\n",
    "\n",
    "    Balanced approach: LSTM\n",
    "\n",
    "All models except Decision Tree show strong performance (>94% accuracy), indicating the TF-IDF features effectively capture the classification signals. The 3-4% performance difference between traditional and neural models shows that sequence-aware processing helps this specific task of AI/Human text classification."
   ]
  },
  {
   "cell_type": "code",
   "execution_count": null,
   "metadata": {},
   "outputs": [],
   "source": [
    "# # --- Performance Evaluation & Analysis ---\n",
    "# import numpy as np\n",
    "# from sklearn.metrics import classification_report, confusion_matrix, roc_curve, auc\n",
    "\n",
    "# results = {}\n",
    "# y_true = y_test.values\n",
    "\n",
    "# for name in list(ml_models.keys()) + list(dl_models.keys()):\n",
    "#     print(f\"\\n{'='*50}\")\n",
    "#     print(f\"Evaluating {name}...\")\n",
    "#     print('='*50)\n",
    "    \n",
    "#     if name in ml_models:\n",
    "#         # Load scikit-learn model\n",
    "#         with open(f'models/{name}_model.pkl','rb') as f:\n",
    "#             m = pickle.load(f)\n",
    "#         preds = m.predict(X_test)\n",
    "#         probs = m.predict_proba(X_test)[:,1]\n",
    "#     else:\n",
    "#         # PyTorch model evaluation\n",
    "#         mdl = dl_models[name]\n",
    "#         mdl.eval()\n",
    "#         all_preds = []\n",
    "#         all_probs = []\n",
    "#         with torch.no_grad():\n",
    "#             for X_batch, _ in test_loader:\n",
    "#                 X_batch = X_batch.to(device)\n",
    "#                 out = mdl(X_batch)\n",
    "#                 prob = torch.softmax(out, 1)[:,1].cpu().numpy()\n",
    "#                 pred = torch.argmax(out, 1).cpu().numpy()\n",
    "#                 all_probs.extend(prob.tolist())\n",
    "#                 all_preds.extend(pred.tolist())\n",
    "#         preds = np.array(all_preds)\n",
    "#         probs = np.array(all_probs)\n",
    "\n",
    "#     # Compute metrics\n",
    "#     acc = accuracy_score(y_true, preds)\n",
    "#     fpr, tpr, _ = roc_curve(y_true, probs)\n",
    "#     roc_auc = auc(fpr, tpr)\n",
    "    \n",
    "#     # Generate classification report and confusion matrix\n",
    "#     print(f\"\\n{name} Classification Report:\")\n",
    "#     print(classification_report(y_true, preds, digits=3))\n",
    "    \n",
    "#     print(f\"{name} Confusion Matrix:\")\n",
    "#     print(confusion_matrix(y_true, preds))\n",
    "    \n",
    "#     print(f\"{name} ROC AUC: {roc_auc:.4f}\")\n",
    "#     print(f\"{name} Accuracy: {acc:.4f}\")\n",
    "    \n",
    "#     # Store for ROC plot\n",
    "#     results[name] = (fpr, tpr, roc_auc)\n",
    "\n"
   ]
  }
 ],
 "metadata": {
  "kernelspec": {
   "display_name": "base",
   "language": "python",
   "name": "python3"
  },
  "language_info": {
   "codemirror_mode": {
    "name": "ipython",
    "version": 3
   },
   "file_extension": ".py",
   "mimetype": "text/x-python",
   "name": "python",
   "nbconvert_exporter": "python",
   "pygments_lexer": "ipython3",
   "version": "3.12.11"
  }
 },
 "nbformat": 4,
 "nbformat_minor": 5
}
