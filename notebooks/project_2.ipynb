{
 "cells": [
  {
   "cell_type": "markdown",
   "metadata": {},
   "source": [
    "# AI vs Human Text Detection Model Training Notebook(Deep Learning Models)\n",
    "This notebook covers:\n",
    "1. Data Analysis & Preprocessing\n",
    "2. Feature Engineering (TF-IDF, Word2Vec/GloVe/fastText) & Selection\n",
    "3. Model Development & Hyperparameter Tuning (SVM, Decision Tree, AdaBoost, CNN, LSTM, RNN)\n",
    "4. Performance Evaluation & Analysis (accuracy, confusion matrix, ROC curves)\n",
    "5. Saving all trained models and TF-IDF vectorizer\n",
    "\n",
    "Utilizes all available GPUs via PyTorch DataParallel.  "
   ]
  },
  {
   "cell_type": "code",
   "execution_count": 1,
   "metadata": {},
   "outputs": [],
   "source": [
    "# Imports\n",
    "import os\n",
    "import pandas as pd\n",
    "import numpy as np\n",
    "import pickle\n",
    "import matplotlib.pyplot as plt\n",
    "from sklearn.feature_extraction.text import TfidfVectorizer\n",
    "from sklearn.model_selection import train_test_split, GridSearchCV\n",
    "from sklearn.svm import SVC\n",
    "from sklearn.tree import DecisionTreeClassifier\n",
    "from sklearn.ensemble import AdaBoostClassifier\n",
    "from sklearn.metrics import accuracy_score, confusion_matrix, roc_curve, auc, classification_report\n",
    "import torch\n",
    "import torch.nn as nn\n",
    "from torch.utils.data import Dataset, DataLoader\n",
    "# Optional embeddings\n",
    "# from gensim.models import KeyedVectors\n"
   ]
  },
  {
   "cell_type": "code",
   "execution_count": 2,
   "metadata": {},
   "outputs": [
    {
     "name": "stdout",
     "output_type": "stream",
     "text": [
      "PyTorch CUDA build version: 12.6\n",
      "cuDNN version: 90501\n",
      "Number of GPUs: 2\n",
      "  GPU 0: NVIDIA RTX 5000 Ada Generation\n",
      "  GPU 1: NVIDIA RTX 5000 Ada Generation\n"
     ]
    }
   ],
   "source": [
    "# Device and GPU setup\n",
    "print(f\"PyTorch CUDA build version: {torch.version.cuda}\")\n",
    "print(f\"cuDNN version: {torch.backends.cudnn.version()}\")\n",
    "print(f\"Number of GPUs: {torch.cuda.device_count()}\")\n",
    "for i in range(torch.cuda.device_count()):\n",
    "    print(f\"  GPU {i}: {torch.cuda.get_device_name(i)}\")\n",
    "n_gpus = torch.cuda.device_count()\n",
    "device = torch.device(\"cuda\" if torch.cuda.is_available() else \"cpu\")"
   ]
  },
  {
   "cell_type": "code",
   "execution_count": 3,
   "metadata": {},
   "outputs": [
    {
     "name": "stdout",
     "output_type": "stream",
     "text": [
      "(3728, 2)\n"
     ]
    },
    {
     "data": {
      "text/html": [
       "<div>\n",
       "<style scoped>\n",
       "    .dataframe tbody tr th:only-of-type {\n",
       "        vertical-align: middle;\n",
       "    }\n",
       "\n",
       "    .dataframe tbody tr th {\n",
       "        vertical-align: top;\n",
       "    }\n",
       "\n",
       "    .dataframe thead th {\n",
       "        text-align: right;\n",
       "    }\n",
       "</style>\n",
       "<table border=\"1\" class=\"dataframe\">\n",
       "  <thead>\n",
       "    <tr style=\"text-align: right;\">\n",
       "      <th></th>\n",
       "      <th>text</th>\n",
       "      <th>label</th>\n",
       "    </tr>\n",
       "  </thead>\n",
       "  <tbody>\n",
       "    <tr>\n",
       "      <th>0</th>\n",
       "      <td>International sports events require the most w...</td>\n",
       "      <td>0</td>\n",
       "    </tr>\n",
       "    <tr>\n",
       "      <th>1</th>\n",
       "      <td>Globalisation has become a significant aspect ...</td>\n",
       "      <td>0</td>\n",
       "    </tr>\n",
       "    <tr>\n",
       "      <th>2</th>\n",
       "      <td>There is an ever-increasing number of bullying...</td>\n",
       "      <td>0</td>\n",
       "    </tr>\n",
       "    <tr>\n",
       "      <th>3</th>\n",
       "      <td>It is commonly believed, that companies should...</td>\n",
       "      <td>0</td>\n",
       "    </tr>\n",
       "    <tr>\n",
       "      <th>4</th>\n",
       "      <td>Despite knowing about the adverse effects of c...</td>\n",
       "      <td>0</td>\n",
       "    </tr>\n",
       "  </tbody>\n",
       "</table>\n",
       "</div>"
      ],
      "text/plain": [
       "                                                text  label\n",
       "0  International sports events require the most w...      0\n",
       "1  Globalisation has become a significant aspect ...      0\n",
       "2  There is an ever-increasing number of bullying...      0\n",
       "3  It is commonly believed, that companies should...      0\n",
       "4  Despite knowing about the adverse effects of c...      0"
      ]
     },
     "execution_count": 3,
     "metadata": {},
     "output_type": "execute_result"
    }
   ],
   "source": [
    "# Load Data\n",
    "data = pd.read_excel('../data/AI_vs_huam_train_dataset.xlsx')  \n",
    "data.rename(columns={'essay': 'text'}, inplace=True) \n",
    "texts = data['text']\n",
    "labels = data['label']\n",
    "print(data.shape)\n",
    "data.head()"
   ]
  },
  {
   "cell_type": "code",
   "execution_count": 4,
   "metadata": {},
   "outputs": [
    {
     "name": "stderr",
     "output_type": "stream",
     "text": [
      "[nltk_data] Downloading package punkt to /root/nltk_data...\n",
      "[nltk_data]   Package punkt is already up-to-date!\n",
      "[nltk_data] Downloading package stopwords to /root/nltk_data...\n",
      "[nltk_data]   Package stopwords is already up-to-date!\n",
      "[nltk_data] Downloading package punkt_tab to /root/nltk_data...\n",
      "[nltk_data]   Package punkt_tab is already up-to-date!\n"
     ]
    },
    {
     "data": {
      "text/plain": [
       "0    international sports events require athletes c...\n",
       "1    globalisation become significant aspect world ...\n",
       "2    number bullying activities numerous schools al...\n",
       "3    commonly believed companies dress code policy ...\n",
       "4    despite knowing adverse effects climate change...\n",
       "Name: clean, dtype: object"
      ]
     },
     "execution_count": 4,
     "metadata": {},
     "output_type": "execute_result"
    }
   ],
   "source": [
    "# Data Analysis & Preprocessing\n",
    "import nltk\n",
    "nltk.download('punkt')\n",
    "nltk.download('stopwords')\n",
    "nltk.download('punkt_tab')  # ensure the punkt_tab tokenizer is available\n",
    "from nltk.corpus import stopwords\n",
    "from nltk.tokenize import word_tokenize\n",
    "\n",
    "def preprocess(text):\n",
    "    tokens = word_tokenize(text.lower())\n",
    "    tokens = [t for t in tokens if t.isalpha()]\n",
    "    tokens = [t for t in tokens if t not in stopwords.words('english')]\n",
    "    return ' '.join(tokens)\n",
    "\n",
    "data['clean'] = data['text'].apply(preprocess)\n",
    "data['clean'].head()"
   ]
  },
  {
   "cell_type": "code",
   "execution_count": 5,
   "metadata": {},
   "outputs": [],
   "source": [
    "# Feature Engineering: TF-IDF\n",
    "vectorizer = TfidfVectorizer(max_features=5000)\n",
    "X_tfidf = vectorizer.fit_transform(data['clean'])\n",
    "# Save vectorizer\n",
    "os.makedirs('models', exist_ok=True)\n",
    "with open('models/tfidf_vectorizer.pkl', 'wb') as f:\n",
    "    pickle.dump(vectorizer, f)\n"
   ]
  },
  {
   "cell_type": "code",
   "execution_count": null,
   "metadata": {},
   "outputs": [
    {
     "name": "stdout",
     "output_type": "stream",
     "text": [
      "Embeddings loading stubs included\n"
     ]
    }
   ],
   "source": [
    "# Load Pre-trained Embeddings\n",
    "# word2vec = KeyedVectors.load_word2vec_format('path/to/GoogleNews-vectors-negative300.bin', binary=True)\n",
    "# glove = KeyedVectors.load_word2vec_format('path/to/glove.txt')\n",
    "# fasttext = KeyedVectors.load('path/to/fasttext.bin')\n",
    "print(\"Embeddings loading stubs included\")"
   ]
  },
  {
   "cell_type": "code",
   "execution_count": 7,
   "metadata": {},
   "outputs": [],
   "source": [
    "# Train/Test Split\n",
    "X_train, X_test, y_train, y_test = train_test_split(\n",
    "    X_tfidf, labels, test_size=0.2, random_state=42\n",
    ")"
   ]
  },
  {
   "cell_type": "code",
   "execution_count": 8,
   "metadata": {},
   "outputs": [
    {
     "name": "stdout",
     "output_type": "stream",
     "text": [
      "Training svm...\n"
     ]
    },
    {
     "name": "stdout",
     "output_type": "stream",
     "text": [
      "Saved svm\n",
      "Training decision_tree...\n",
      "Saved decision_tree\n",
      "Training adaboost...\n",
      "Saved adaboost\n"
     ]
    }
   ],
   "source": [
    "# Machine Learning Models Training & Saving\n",
    "ml_models = {\n",
    "    'svm': SVC(probability=True),\n",
    "    'decision_tree': DecisionTreeClassifier(),\n",
    "    'adaboost': AdaBoostClassifier()\n",
    "}\n",
    "params = {\n",
    "    'svm': {'C': [0.1,1,10], 'kernel': ['linear','rbf']},\n",
    "    'decision_tree': {'max_depth': [10,50,None]},\n",
    "    'adaboost': {'n_estimators':[50,100], 'learning_rate':[0.5,1.0]}\n",
    "}\n",
    "for name, model in ml_models.items():\n",
    "    print(f\"Training {name}...\")\n",
    "    grid = GridSearchCV(model, params[name], cv=3, n_jobs=-1)\n",
    "    grid.fit(X_train, y_train)\n",
    "    best = grid.best_estimator_\n",
    "    with open(f'models/{name}_model.pkl','wb') as f:\n",
    "        pickle.dump(best, f)\n",
    "    print(f\"Saved {name}\")"
   ]
  },
  {
   "cell_type": "code",
   "execution_count": 9,
   "metadata": {},
   "outputs": [],
   "source": [
    "# PyTorch Dataset\n",
    "class TextDataset(Dataset):\n",
    "    def __init__(self, X, y):\n",
    "        self.X = torch.tensor(X.toarray(), dtype=torch.float32)\n",
    "        self.y = torch.tensor(y.values, dtype=torch.long)\n",
    "    def __len__(self): return len(self.y)\n",
    "    def __getitem__(self, idx): return self.X[idx], self.y[idx]\n",
    "\n",
    "train_ds = TextDataset(X_train, y_train)\n",
    "test_ds = TextDataset(X_test, y_test)\n",
    "train_loader = DataLoader(train_ds, batch_size=32, shuffle=True)\n",
    "test_loader = DataLoader(test_ds, batch_size=32)"
   ]
  },
  {
   "cell_type": "code",
   "execution_count": 10,
   "metadata": {},
   "outputs": [],
   "source": [
    "# Deep Learning Models\n",
    "class CNNModel(nn.Module):\n",
    "    def __init__(self, input_dim, output_dim):\n",
    "        super().__init__()\n",
    "        self.conv1 = nn.Conv1d(1,16,3,padding=1)\n",
    "        self.pool = nn.MaxPool1d(2)\n",
    "        self.fc = nn.Linear((input_dim//2)*16, output_dim)\n",
    "    def forward(self,x):\n",
    "        x = x.unsqueeze(1)\n",
    "        x = torch.relu(self.conv1(x))\n",
    "        x = self.pool(x)\n",
    "        return self.fc(x.view(x.size(0),-1))\n",
    "\n",
    "class LSTMModel(nn.Module):\n",
    "    def __init__(self, input_dim, hidden_dim, output_dim):\n",
    "        super().__init__()\n",
    "        # input_dim = 5000 features\n",
    "        self.lstm = nn.LSTM(input_dim, hidden_dim, batch_first=True)\n",
    "        self.fc = nn.Linear(hidden_dim, output_dim)\n",
    "\n",
    "    def forward(self, x):\n",
    "        # x: (batch, features)\n",
    "        x = x.unsqueeze(1)          # -> (batch, seq_len=1, features=5000)\n",
    "        out, _ = self.lstm(x)       # now input_size matches\n",
    "        return self.fc(out[:, -1, :])\n",
    "\n",
    "class RNNModel(nn.Module):\n",
    "    def __init__(self, input_dim, hidden_dim, output_dim):\n",
    "        super().__init__()\n",
    "        self.rnn = nn.RNN(input_dim, hidden_dim, batch_first=True)\n",
    "        self.fc = nn.Linear(hidden_dim, output_dim)\n",
    "\n",
    "    def forward(self, x):\n",
    "        x = x.unsqueeze(1)          # -> (batch, 1, features)\n",
    "        out, _ = self.rnn(x)\n",
    "        return self.fc(out[:, -1, :])\n"
   ]
  },
  {
   "cell_type": "code",
   "execution_count": 11,
   "metadata": {},
   "outputs": [
    {
     "name": "stdout",
     "output_type": "stream",
     "text": [
      "Training CNN...\n",
      "Saved CNN\n",
      "Training LSTM...\n",
      "Saved LSTM\n",
      "Training RNN...\n",
      "Saved RNN\n"
     ]
    }
   ],
   "source": [
    "# Wrap models for multi-GPU & train\n",
    "input_dim = train_ds.X.shape[1]\n",
    "output_dim = len(set(labels))\n",
    "hidden_dim = 128\n",
    "\n",
    "raw = {'CNN':CNNModel(input_dim,output_dim),'LSTM':LSTMModel(input_dim,hidden_dim,output_dim),'RNN':RNNModel(input_dim,hidden_dim,output_dim)}\n",
    "dl_models = {}\n",
    "for name, model in raw.items():\n",
    "    if n_gpus > 1: model = nn.DataParallel(model)\n",
    "    dl_models[name] = model.to(device)\n",
    "\n",
    "criterion = nn.CrossEntropyLoss()\n",
    "for name, model in dl_models.items():\n",
    "    optimizer = torch.optim.Adam(model.parameters(),lr=1e-3)\n",
    "    print(f\"Training {name}...\")\n",
    "    for epoch in range(5):\n",
    "        for X_batch, y_batch in train_loader:\n",
    "            X_batch, y_batch = X_batch.to(device), y_batch.to(device)\n",
    "            optimizer.zero_grad()\n",
    "            out = model(X_batch)\n",
    "            loss = criterion(out, y_batch)\n",
    "            loss.backward()\n",
    "            optimizer.step()\n",
    "    save_mod = model.module if isinstance(model, nn.DataParallel) else model\n",
    "    torch.save(save_mod.state_dict(),f'models/{name}.pkl')\n",
    "    print(f\"Saved {name}\")"
   ]
  },
  {
   "cell_type": "code",
   "execution_count": 12,
   "metadata": {},
   "outputs": [
    {
     "name": "stdout",
     "output_type": "stream",
     "text": [
      "svm — Accuracy: 0.971, AUC: 0.996\n",
      "decision_tree — Accuracy: 0.873, AUC: 0.860\n",
      "adaboost — Accuracy: 0.961, AUC: 0.991\n",
      "CNN — Accuracy: 0.952, AUC: 0.990\n",
      "LSTM — Accuracy: 0.971, AUC: 0.996\n",
      "RNN — Accuracy: 0.971, AUC: 0.997\n"
     ]
    },
    {
     "data": {
      "image/png": "[encoded data removed]",
      "text/plain": [
       "<Figure size 640x480 with 1 Axes>"
      ]
     },
     "metadata": {},
     "output_type": "display_data"
    },
    {
     "name": "stdout",
     "output_type": "stream",
     "text": [
      "Confusion Matrix\n",
      "[[376  17]\n",
      " [  5 348]]\n"
     ]
    }
   ],
   "source": [
    "# --- Performance Evaluation & Analysis ---\n",
    "import numpy as np\n",
    "\n",
    "results = {}\n",
    "# First, get the true labels as a flat array:\n",
    "y_true = y_test.values if hasattr(y_test, 'values') else np.array(y_test)\n",
    "\n",
    "for name in list(ml_models.keys()) + list(dl_models.keys()):\n",
    "    if name in ml_models:\n",
    "        # scikit-learn model\n",
    "        with open(f'models/{name}_model.pkl','rb') as f:\n",
    "            m = pickle.load(f)\n",
    "        preds = m.predict(X_test.toarray() if hasattr(X_test, 'toarray') else X_test)\n",
    "        probs = m.predict_proba(X_test.toarray() if hasattr(X_test, 'toarray') else X_test)[:,1]\n",
    "    else:\n",
    "        # PyTorch model: iterate over the entire test_loader\n",
    "        mdl = dl_models[name]\n",
    "        mdl.eval()\n",
    "        all_preds = []\n",
    "        all_probs = []\n",
    "        with torch.no_grad():\n",
    "            for X_batch, _ in test_loader:\n",
    "                X_batch = X_batch.to(device)\n",
    "                out = mdl(X_batch)\n",
    "                prob = torch.softmax(out, 1)[:,1].cpu().numpy()\n",
    "                pred = (prob > 0.5).astype(int)\n",
    "                all_probs.extend(prob.tolist())\n",
    "                all_preds.extend(pred.tolist())\n",
    "        preds = np.array(all_preds)\n",
    "        probs = np.array(all_probs)\n",
    "\n",
    "    # Compute metrics\n",
    "    acc = accuracy_score(y_true, preds)\n",
    "    fpr, tpr, _ = roc_curve(y_true, probs)\n",
    "    roc_auc = auc(fpr, tpr)\n",
    "    print(f\"{name} — Accuracy: {acc:.3f}, AUC: {roc_auc:.3f}\")\n",
    "    results[name] = (fpr, tpr, roc_auc)\n",
    "\n",
    "# Plot ROC Curves\n",
    "plt.figure()\n",
    "for nm,(fpr,tpr,aucv) in results.items():\n",
    "    plt.plot(fpr, tpr, label=f\"{nm} (AUC={aucv:.2f})\")\n",
    "plt.plot([0,1],[0,1],'--')\n",
    "plt.legend()\n",
    "plt.title('ROC Curves')\n",
    "plt.show()\n",
    "\n",
    "# Confusion Matrix for best model\n",
    "cm = confusion_matrix(y_test, preds)\n",
    "print('Confusion Matrix')\n",
    "print(cm)"
   ]
  }
 ],
 "metadata": {
  "kernelspec": {
   "display_name": "base",
   "language": "python",
   "name": "python3"
  },
  "language_info": {
   "codemirror_mode": {
    "name": "ipython",
    "version": 3
   },
   "file_extension": ".py",
   "mimetype": "text/x-python",
   "name": "python",
   "nbconvert_exporter": "python",
   "pygments_lexer": "ipython3",
   "version": "3.12.11"
  }
 },
 "nbformat": 4,
 "nbformat_minor": 5
}
